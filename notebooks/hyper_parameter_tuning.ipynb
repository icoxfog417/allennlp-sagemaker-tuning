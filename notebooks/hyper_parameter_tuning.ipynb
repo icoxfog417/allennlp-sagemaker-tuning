{
 "cells": [
  {
   "cell_type": "markdown",
   "metadata": {},
   "source": [
    "## Hyper parameter tuning by SageMaker\n",
    "\n",
    "1. Prepare Requirements\n",
    "2. \n",
    "\n",
    "**Reference**\n",
    "\n",
    "* [Hyperparameter Tuning using SageMaker PyTorch Container](https://github.com/awslabs/amazon-sagemaker-examples/blob/master/hyperparameter_tuning/pytorch_mnist/hpo_pytorch_mnist.ipynb)"
   ]
  },
  {
   "cell_type": "markdown",
   "metadata": {},
   "source": [
    "## Os level setting\n",
    "\n",
    "change default gcc `gcc -> /etc/alternatives/gcc` to `/usr/bin/gcc48`\n",
    "\n",
    "```\n",
    "sudo rm /usr/bin/gcc\n",
    "sudo ln -s /usr/bin/gcc48 /usr/bin/gcc\n",
    "```\n",
    "\n",
    "Install `clang`\n",
    "\n",
    "```\n",
    "sudo yum install clang\n",
    "```\n"
   ]
  },
  {
   "cell_type": "markdown",
   "metadata": {},
   "source": [
    "## Prepare Requirements"
   ]
  },
  {
   "cell_type": "code",
   "execution_count": 15,
   "metadata": {},
   "outputs": [
    {
     "name": "stdout",
     "output_type": "stream",
     "text": [
      "Requirement already satisfied: pipenv in /home/ec2-user/anaconda3/envs/python3/lib/python3.6/site-packages (2018.11.26)\n",
      "Requirement already satisfied: pip>=9.0.1 in /home/ec2-user/anaconda3/envs/python3/lib/python3.6/site-packages (from pipenv) (10.0.1)\n",
      "Requirement already satisfied: virtualenv in /home/ec2-user/anaconda3/envs/python3/lib/python3.6/site-packages (from pipenv) (16.4.3)\n",
      "Requirement already satisfied: setuptools>=36.2.1 in /home/ec2-user/anaconda3/envs/python3/lib/python3.6/site-packages (from pipenv) (39.1.0)\n",
      "Requirement already satisfied: certifi in /home/ec2-user/anaconda3/envs/python3/lib/python3.6/site-packages (from pipenv) (2018.11.29)\n",
      "Requirement already satisfied: virtualenv-clone>=0.2.5 in /home/ec2-user/anaconda3/envs/python3/lib/python3.6/site-packages (from pipenv) (0.5.1)\n",
      "\u001b[33mYou are using pip version 10.0.1, however version 19.0.3 is available.\n",
      "You should consider upgrading via the 'pip install --upgrade pip' command.\u001b[0m\n"
     ]
    }
   ],
   "source": [
    "!cd ../\n",
    "!pip install pipenv"
   ]
  },
  {
   "cell_type": "code",
   "execution_count": 16,
   "metadata": {},
   "outputs": [
    {
     "name": "stdout",
     "output_type": "stream",
     "text": [
      "\u001b[31m\u001b[22mVirtualenv already exists!\u001b[39m\u001b[22m\n",
      "\u001b[39m\u001b[1mRemoving existing virtualenv…\u001b[39m\u001b[22m\n",
      "\u001b[39m\u001b[1mCreating a virtualenv for this project…\u001b[39m\u001b[22m\n",
      "Pipfile: \u001b[31m\u001b[1m/home/ec2-user/SageMaker/allennlp-sagemaker-tuning/Pipfile\u001b[39m\u001b[22m\n",
      "\u001b[39m\u001b[1mUsing\u001b[39m\u001b[22m \u001b[31m\u001b[1m/home/ec2-user/anaconda3/envs/JupyterSystemEnv/bin/python\u001b[39m\u001b[22m \u001b[32m\u001b[22m(3.6.8)\u001b[39m\u001b[22m \u001b[39m\u001b[1mto create virtualenv…\u001b[39m\u001b[22m\n",
      "⠇\u001b[0m Creating virtual environment...\u001b[K\u001b[34m\u001b[22mUsing base prefix '/home/ec2-user/anaconda3/envs/JupyterSystemEnv'\n",
      "New python executable in /home/ec2-user/.local/share/virtualenvs/allennlp-sagemaker-tuning-Bpkjlbyp/bin/python\n",
      "Installing setuptools, pip, wheel...\n",
      "done.\n",
      "Running virtualenv with interpreter /home/ec2-user/anaconda3/envs/JupyterSystemEnv/bin/python\n",
      "\u001b[39m\u001b[22m\n",
      "\u001b[K\u001b[?25h\u001b[32m\u001b[22m✔ Successfully created virtual environment!\u001b[39m\u001b[22m\u001b[0m \n",
      "Virtualenv location: \u001b[32m\u001b[22m/home/ec2-user/.local/share/virtualenvs/allennlp-sagemaker-tuning-Bpkjlbyp\u001b[39m\u001b[22m\n",
      "\u001b[31m\u001b[1mWarning\u001b[39m\u001b[22m: Your Pipfile requires \u001b[39m\u001b[1mpython_version\u001b[39m\u001b[22m \u001b[34m\u001b[22m3.7\u001b[39m\u001b[22m, but you are using \u001b[34m\u001b[22m3.6.8\u001b[39m\u001b[22m (\u001b[32m\u001b[22m/home/e/.local/share/v/a/bin/python\u001b[39m\u001b[22m).\n",
      "  \u001b[32m\u001b[22m$ pipenv --rm\u001b[39m\u001b[22m and rebuilding the virtual environment may resolve the issue.\n",
      "  \u001b[31m\u001b[22m$ pipenv check\u001b[39m\u001b[22m will surely fail.\n",
      "\u001b[39m\u001b[1mInstalling dependencies from Pipfile.lock (44ebd7)…\u001b[39m\u001b[22m\n",
      "\u001b[31m\u001b[22mAn error occurred while installing\u001b[39m\u001b[22m \u001b[32m\u001b[22mjsonnet==0.12.1 ; sys_platform != 'win32' --hash=sha256:3622d34ed055e9e86687bbe48cc30189fe90ddfd2787ed91c484ee670a179916\u001b[39m\u001b[22m! Will try again.\u001b[1m▉\u001b[39m\u001b[22m\u001b[32m\u001b[1m▉\u001b[39m\u001b[22m\u001b[32m\u001b[1m▉\u001b[39m\u001b[22m\u001b[30m\u001b[22m▉\u001b[39m\u001b[22m\u001b[30m\u001b[22m▉\u001b[39m\u001b[22m\u001b[30m\u001b[22m▉\u001b[39m\u001b[22m\u001b[30m\u001b[22m▉\u001b[39m\u001b[22m\u001b[30m\u001b[22m▉\u001b[39m\u001b[22m\u001b[30m\u001b[22m▉\u001b[39m\u001b[22m\u001b[30m\u001b[22m▉\u001b[39m\u001b[22m\u001b[30m\u001b[22m▉\u001b[39m\u001b[22m\u001b[30m\u001b[22m▉\u001b[39m\u001b[22m\u001b[30m\u001b[22m▉\u001b[39m\u001b[22m\u001b[30m\u001b[22m▉\u001b[39m\u001b[22m\u001b[30m\u001b[22m▉\u001b[39m\u001b[22m\u001b[30m\u001b[22m▉\u001b[39m\u001b[22m\u001b[30m\u001b[22m▉\u001b[39m\u001b[22m\u001b[30m\u001b[22m▉\u001b[39m\u001b[22m\u001b[30m\u001b[22m▉\u001b[39m\u001b[22m\u001b[30m\u001b[22m▉\u001b[39m\u001b[22m\u001b[30m\u001b[22m▉\u001b[39m\u001b[22m\u001b[30m\u001b[22m▉\u001b[39m\u001b[22m 47/108 — \u001b[30m\u001b[22m00:00:32\u001b[39m\u001b[22mmmmmmmmmmmmm\n",
      "  🐍   \u001b[32m\u001b[1m▉\u001b[39m\u001b[22m\u001b[32m\u001b[1m▉\u001b[39m\u001b[22m\u001b[32m\u001b[1m▉\u001b[39m\u001b[22m\u001b[32m\u001b[1m▉\u001b[39m\u001b[22m\u001b[32m\u001b[1m▉\u001b[39m\u001b[22m\u001b[32m\u001b[1m▉\u001b[39m\u001b[22m\u001b[32m\u001b[1m▉\u001b[39m\u001b[22m\u001b[32m\u001b[1m▉\u001b[39m\u001b[22m\u001b[32m\u001b[1m▉\u001b[39m\u001b[22m\u001b[32m\u001b[1m▉\u001b[39m\u001b[22m\u001b[32m\u001b[1m▉\u001b[39m\u001b[22m\u001b[32m\u001b[1m▉\u001b[39m\u001b[22m\u001b[32m\u001b[1m▉\u001b[39m\u001b[22m\u001b[32m\u001b[1m▉\u001b[39m\u001b[22m\u001b[32m\u001b[1m▉\u001b[39m\u001b[22m\u001b[32m\u001b[1m▉\u001b[39m\u001b[22m\u001b[32m\u001b[1m▉\u001b[39m\u001b[22m\u001b[32m\u001b[1m▉\u001b[39m\u001b[22m\u001b[32m\u001b[1m▉\u001b[39m\u001b[22m\u001b[32m\u001b[1m▉\u001b[39m\u001b[22m\u001b[32m\u001b[1m▉\u001b[39m\u001b[22m\u001b[32m\u001b[1m▉\u001b[39m\u001b[22m\u001b[32m\u001b[1m▉\u001b[39m\u001b[22m\u001b[32m\u001b[1m▉\u001b[39m\u001b[22m\u001b[32m\u001b[1m▉\u001b[39m\u001b[22m\u001b[32m\u001b[1m▉\u001b[39m\u001b[22m\u001b[32m\u001b[1m▉\u001b[39m\u001b[22m\u001b[32m\u001b[1m▉\u001b[39m\u001b[22m\u001b[32m\u001b[1m▉\u001b[39m\u001b[22m\u001b[32m\u001b[1m▉\u001b[39m\u001b[22m\u001b[32m\u001b[1m▉\u001b[39m\u001b[22m\u001b[32m\u001b[1m▉\u001b[39m\u001b[22m 108/108 — \u001b[30m\u001b[22m00:01:55\u001b[39m\u001b[22mmmmmmmmmmmmmmmmmm\n",
      "\u001b[39m\u001b[1mInstalling initially failed dependencies…\u001b[39m\u001b[22m\n",
      "[pipenv.exceptions.InstallError]:   File \"/home/ec2-user/anaconda3/envs/python3/lib/python3.6/site-packages/pipenv/core.py\", line 1874, in do_installm\u001b[30m\u001b[22m▉\u001b[39m\u001b[22m\u001b[30m\u001b[22m▉\u001b[39m\u001b[22m\u001b[30m\u001b[22m▉\u001b[39m\u001b[22m\u001b[30m\u001b[22m▉\u001b[39m\u001b[22m\u001b[30m\u001b[22m▉\u001b[39m\u001b[22m\u001b[30m\u001b[22m▉\u001b[39m\u001b[22m\u001b[30m\u001b[22m▉\u001b[39m\u001b[22m\u001b[30m\u001b[22m▉\u001b[39m\u001b[22m\u001b[30m\u001b[22m▉\u001b[39m\u001b[22m\u001b[30m\u001b[22m▉\u001b[39m\u001b[22m\u001b[30m\u001b[22m▉\u001b[39m\u001b[22m\u001b[30m\u001b[22m▉\u001b[39m\u001b[22m\u001b[30m\u001b[22m▉\u001b[39m\u001b[22m\u001b[30m\u001b[22m▉\u001b[39m\u001b[22m\u001b[30m\u001b[22m▉\u001b[39m\u001b[22m\u001b[30m\u001b[22m▉\u001b[39m\u001b[22m\u001b[30m\u001b[22m▉\u001b[39m\u001b[22m\u001b[30m\u001b[22m▉\u001b[39m\u001b[22m\u001b[30m\u001b[22m▉\u001b[39m\u001b[22m\u001b[30m\u001b[22m▉\u001b[39m\u001b[22m\u001b[30m\u001b[22m▉\u001b[39m\u001b[22m\u001b[30m\u001b[22m▉\u001b[39m\u001b[22m\u001b[30m\u001b[22m▉\u001b[39m\u001b[22m\u001b[30m\u001b[22m▉\u001b[39m\u001b[22m\u001b[30m\u001b[22m▉\u001b[39m\u001b[22m\u001b[30m\u001b[22m▉\u001b[39m\u001b[22m 0/1 — \u001b[30m\u001b[22m00:00:00\u001b[39m\u001b[22m\n",
      "[pipenv.exceptions.InstallError]:       keep_outdated=keep_outdated\n",
      "[pipenv.exceptions.InstallError]:   File \"/home/ec2-user/anaconda3/envs/python3/lib/python3.6/site-packages/pipenv/core.py\", line 1253, in do_init\n",
      "[pipenv.exceptions.InstallError]:       pypi_mirror=pypi_mirror,\n",
      "[pipenv.exceptions.InstallError]:   File \"/home/ec2-user/anaconda3/envs/python3/lib/python3.6/site-packages/pipenv/core.py\", line 859, in do_install_dependencies\n",
      "[pipenv.exceptions.InstallError]:       retry_list, procs, failed_deps_queue, requirements_dir, **install_kwargs\n",
      "[pipenv.exceptions.InstallError]:   File \"/home/ec2-user/anaconda3/envs/python3/lib/python3.6/site-packages/pipenv/core.py\", line 763, in batch_install\n",
      "[pipenv.exceptions.InstallError]:       _cleanup_procs(procs, not blocking, failed_deps_queue, retry=retry)\n",
      "[pipenv.exceptions.InstallError]:   File \"/home/ec2-user/anaconda3/envs/python3/lib/python3.6/site-packages/pipenv/core.py\", line 681, in _cleanup_procs\n",
      "[pipenv.exceptions.InstallError]:       raise exceptions.InstallError(c.dep.name, extra=err_lines)\n",
      "[pipenv.exceptions.InstallError]: ['Collecting jsonnet==0.12.1 (from -r /tmp/pipenv-ydd4ym5u-requirements/pipenv-1ookfizz-requirement.txt (line 1))', '  Using cached https://files.pythonhosted.org/packages/60/dc/3abd3971869a741d7acdba166d71d4f9366b6b53028dfd56f95de356af0f/jsonnet-0.12.1.tar.gz', 'Building wheels for collected packages: jsonnet', '  Building wheel for jsonnet (setup.py): started', \"  Building wheel for jsonnet (setup.py): finished with status 'error'\", '  Complete output from command /home/ec2-user/.local/share/virtualenvs/allennlp-sagemaker-tuning-Bpkjlbyp/bin/python -u -c \"import setuptools, tokenize;__file__=\\'/tmp/pip-install-mmon5n_u/jsonnet/setup.py\\';f=getattr(tokenize, \\'open\\', open)(__file__);code=f.read().replace(\\'\\\\r\\\\n\\', \\'\\\\n\\');f.close();exec(compile(code, __file__, \\'exec\\'))\" bdist_wheel -d /tmp/pip-wheel-718hos2b --python-tag cp36:', '  running bdist_wheel', '  running build', '  running build_ext', '  g++ -c -g -O3 -Wall -Wextra -Woverloaded-virtual -pedantic -std=c++0x -fPIC -Iinclude -Ithird_party/md5 -Ithird_party/json core/desugarer.cpp -o core/desugarer.o', '  core/desugarer.cpp:406:10: warning: unused parameter ‘obj_level’ [-Wunused-parameter]', '       AST* makeArrayComprehension(ArrayComprehension *ast, unsigned obj_level) {', '            ^', '  g++ -c -g -O3 -Wall -Wextra -Woverloaded-virtual -pedantic -std=c++0x -fPIC -Iinclude -Ithird_party/md5 -Ithird_party/json core/formatter.cpp -o core/formatter.o', '  g++ -c -g -O3 -Wall -Wextra -Woverloaded-virtual -pedantic -std=c++0x -fPIC -Iinclude -Ithird_party/md5 -Ithird_party/json core/libjsonnet.cpp -o core/libjsonnet.o', '  g++ -c -g -O3 -Wall -Wextra -Woverloaded-virtual -pedantic -std=c++0x -fPIC -Iinclude -Ithird_party/md5 -Ithird_party/json core/lexer.cpp -o core/lexer.o', '  g++ -c -g -O3 -Wall -Wextra -Woverloaded-virtual -pedantic -std=c++0x -fPIC -Iinclude -Ithird_party/md5 -Ithird_party/json core/parser.cpp -o core/parser.o', '  g++ -c -g -O3 -Wall -Wextra -Woverloaded-virtual -pedantic -std=c++0x -fPIC -Iinclude -Ithird_party/md5 -Ithird_party/json core/pass.cpp -o core/pass.o', '  g++ -c -g -O3 -Wall -Wextra -Woverloaded-virtual -pedantic -std=c++0x -fPIC -Iinclude -Ithird_party/md5 -Ithird_party/json core/static_analysis.cpp -o core/static_analysis.o', '  g++ -c -g -O3 -Wall -Wextra -Woverloaded-virtual -pedantic -std=c++0x -fPIC -Iinclude -Ithird_party/md5 -Ithird_party/json core/string_utils.cpp -o core/string_utils.o', '  g++ -c -g -O3 -Wall -Wextra -Woverloaded-virtual -pedantic -std=c++0x -fPIC -Iinclude -Ithird_party/md5 -Ithird_party/json core/vm.cpp -o core/vm.o', '  In file included from core/vm.cpp:26:0:', '  third_party/json/json.hpp:129:14: error: #error \"unsupported GCC version - see https://github.com/nlohmann/json#supported-compilers\"', '               #error \"unsupported GCC version - see https://github.com/nlohmann/json#supported-compilers\"', '                ^', '  core/vm.cpp: In member function ‘const AST* {anonymous}::Interpreter::builtinSplitLimit(const LocationRange&, const std::vector<{anonymous}::Value>&)’:', '  core/vm.cpp:1337:39: warning: comparison between signed and unsigned integer expressions [-Wsign-compare]', '           while (test < str->value.size() && (maxsplits == -1 ||', '                                         ^', '  core/vm.cpp:1338:71: warning: comparison between signed and unsigned integer expressions [-Wsign-compare]', '                                               maxsplits > elements.size())) {', '                                                                         ^', '  core/vm.cpp: In member function ‘const AST* {anonymous}::Interpreter::builtinSubstr(const LocationRange&, const std::vector<{anonymous}::Value>&)’:', '  core/vm.cpp:1362:42: warning: comparison between signed and unsigned integer expressions [-Wsign-compare]', '           if (len + from > str->value.size()) {', '                                            ^', '  core/vm.cpp: In member function ‘const AST* {anonymous}::Interpreter::builtinAsciiLower(const LocationRange&, const std::vector<{anonymous}::Value>&)’:', '  core/vm.cpp:1419:42: warning: comparison between signed and unsigned integer expressions [-Wsign-compare]', '           for (int i = 0; i < new_str.size(); ++i) {', '                                            ^', '  core/vm.cpp: In member function ‘const AST* {anonymous}::Interpreter::builtinAsciiUpper(const LocationRange&, const std::vector<{anonymous}::Value>&)’:', '  core/vm.cpp:1433:42: warning: comparison between signed and unsigned integer expressions [-Wsign-compare]', '           for (int i = 0; i < new_str.size(); ++i) {', '                                            ^', '  core/vm.cpp: In member function ‘const AST* {anonymous}::Interpreter::joinStrings(const {anonymous}::Value&, const {anonymous}::Value&, unsigned int, UString)’:', '  core/vm.cpp:1533:49: warning: comparison between signed and unsigned integer expressions [-Wsign-compare]', '               for (int i = idx; i < elements.size(); ++i) {', '                                                   ^', '  core/vm.cpp: In member function ‘const AST* {anonymous}::Interpreter::joinArrays(const {anonymous}::Value&, const {anonymous}::Value&, unsigned int, std::vector<{anonymous}::HeapThunk*>&)’:', '  core/vm.cpp:1577:49: warning: comparison between signed and unsigned integer expressions [-Wsign-compare]', '               for (int i = idx; i < elements.size(); ++i) {', '                                                   ^', '  make: *** [core/vm.o] Error 1', '  Traceback (most recent call last):', '    File \"<string>\", line 1, in <module>', '    File \"/tmp/pip-install-mmon5n_u/jsonnet/setup.py\", line 75, in <module>', '      test_suite=\"python._jsonnet_test\",', '    File \"/home/ec2-user/.local/share/virtualenvs/allennlp-sagemaker-tuning-Bpkjlbyp/lib/python3.6/site-packages/setuptools/__init__.py\", line 145, in setup', '      return distutils.core.setup(**attrs)', '    File \"/home/ec2-user/anaconda3/envs/JupyterSystemEnv/lib/python3.6/distutils/core.py\", line 148, in setup', '      dist.run_commands()', '    File \"/home/ec2-user/anaconda3/envs/JupyterSystemEnv/lib/python3.6/distutils/dist.py\", line 955, in run_commands', '      self.run_command(cmd)', '    File \"/home/ec2-user/anaconda3/envs/JupyterSystemEnv/lib/python3.6/distutils/dist.py\", line 974, in run_command', '      cmd_obj.run()', '    File \"/home/ec2-user/.local/share/virtualenvs/allennlp-sagemaker-tuning-Bpkjlbyp/lib/python3.6/site-packages/wheel/bdist_wheel.py\", line 192, in run', \"      self.run_command('build')\", '    File \"/home/ec2-user/anaconda3/envs/JupyterSystemEnv/lib/python3.6/distutils/cmd.py\", line 313, in run_command', '      self.distribution.run_command(command)', '    File \"/home/ec2-user/anaconda3/envs/JupyterSystemEnv/lib/python3.6/distutils/dist.py\", line 974, in run_command', '      cmd_obj.run()', '    File \"/home/ec2-user/anaconda3/envs/JupyterSystemEnv/lib/python3.6/distutils/command/build.py\", line 135, in run', '      self.run_command(cmd_name)', '    File \"/home/ec2-user/anaconda3/envs/JupyterSystemEnv/lib/python3.6/distutils/cmd.py\", line 313, in run_command', '      self.distribution.run_command(command)', '    File \"/home/ec2-user/anaconda3/envs/JupyterSystemEnv/lib/python3.6/distutils/dist.py\", line 974, in run_command', '      cmd_obj.run()', '    File \"/tmp/pip-install-mmon5n_u/jsonnet/setup.py\", line 54, in run', \"      raise Exception('Could not build %s' % (', '.join(LIB_OBJECTS)))\", '  Exception: Could not build core/desugarer.o, core/formatter.o, core/libjsonnet.o, core/lexer.o, core/parser.o, core/pass.o, core/static_analysis.o, core/string_utils.o, core/vm.o, third_party/md5/md5.o', '  ', '  ----------------------------------------', '  Running setup.py clean for jsonnet', 'Failed to build jsonnet', 'Installing collected packages: jsonnet', '  Running setup.py install for jsonnet: started', \"    Running setup.py install for jsonnet: finished with status 'error'\", '    Complete output from command /home/ec2-user/.local/share/virtualenvs/allennlp-sagemaker-tuning-Bpkjlbyp/bin/python -u -c \"import setuptools, tokenize;__file__=\\'/tmp/pip-install-mmon5n_u/jsonnet/setup.py\\';f=getattr(tokenize, \\'open\\', open)(__file__);code=f.read().replace(\\'\\\\r\\\\n\\', \\'\\\\n\\');f.close();exec(compile(code, __file__, \\'exec\\'))\" install --record /tmp/pip-record-amo0w5ep/install-record.txt --single-version-externally-managed --compile --install-headers /home/ec2-user/.local/share/virtualenvs/allennlp-sagemaker-tuning-Bpkjlbyp/include/site/python3.6/jsonnet:', '    running install', '    running build', '    running build_ext', \"    make: `core/desugarer.o' is up to date.\", \"    make: `core/formatter.o' is up to date.\", \"    make: `core/libjsonnet.o' is up to date.\", \"    make: `core/lexer.o' is up to date.\", \"    make: `core/parser.o' is up to date.\", \"    make: `core/pass.o' is up to date.\", \"    make: `core/static_analysis.o' is up to date.\", \"    make: `core/string_utils.o' is up to date.\", '    g++ -c -g -O3 -Wall -Wextra -Woverloaded-virtual -pedantic -std=c++0x -fPIC -Iinclude -Ithird_party/md5 -Ithird_party/json core/vm.cpp -o core/vm.o', '    In file included from core/vm.cpp:26:0:', '    third_party/json/json.hpp:129:14: error: #error \"unsupported GCC version - see https://github.com/nlohmann/json#supported-compilers\"', '                 #error \"unsupported GCC version - see https://github.com/nlohmann/json#supported-compilers\"', '                  ^', '    core/vm.cpp: In member function ‘const AST* {anonymous}::Interpreter::builtinSplitLimit(const LocationRange&, const std::vector<{anonymous}::Value>&)’:', '    core/vm.cpp:1337:39: warning: comparison between signed and unsigned integer expressions [-Wsign-compare]', '             while (test < str->value.size() && (maxsplits == -1 ||', '                                           ^', '    core/vm.cpp:1338:71: warning: comparison between signed and unsigned integer expressions [-Wsign-compare]', '                                                 maxsplits > elements.size())) {', '                                                                           ^', '    core/vm.cpp: In member function ‘const AST* {anonymous}::Interpreter::builtinSubstr(const LocationRange&, const std::vector<{anonymous}::Value>&)’:', '    core/vm.cpp:1362:42: warning: comparison between signed and unsigned integer expressions [-Wsign-compare]', '             if (len + from > str->value.size()) {', '                                              ^', '    core/vm.cpp: In member function ‘const AST* {anonymous}::Interpreter::builtinAsciiLower(const LocationRange&, const std::vector<{anonymous}::Value>&)’:', '    core/vm.cpp:1419:42: warning: comparison between signed and unsigned integer expressions [-Wsign-compare]', '             for (int i = 0; i < new_str.size(); ++i) {', '                                              ^', '    core/vm.cpp: In member function ‘const AST* {anonymous}::Interpreter::builtinAsciiUpper(const LocationRange&, const std::vector<{anonymous}::Value>&)’:', '    core/vm.cpp:1433:42: warning: comparison between signed and unsigned integer expressions [-Wsign-compare]', '             for (int i = 0; i < new_str.size(); ++i) {', '                                              ^', '    core/vm.cpp: In member function ‘const AST* {anonymous}::Interpreter::joinStrings(const {anonymous}::Value&, const {anonymous}::Value&, unsigned int, UString)’:', '    core/vm.cpp:1533:49: warning: comparison between signed and unsigned integer expressions [-Wsign-compare]', '                 for (int i = idx; i < elements.size(); ++i) {', '                                                     ^', '    core/vm.cpp: In member function ‘const AST* {anonymous}::Interpreter::joinArrays(const {anonymous}::Value&, const {anonymous}::Value&, unsigned int, std::vector<{anonymous}::HeapThunk*>&)’:', '    core/vm.cpp:1577:49: warning: comparison between signed and unsigned integer expressions [-Wsign-compare]', '                 for (int i = idx; i < elements.size(); ++i) {', '                                                     ^', '    make: *** [core/vm.o] Error 1', '    Traceback (most recent call last):', '      File \"<string>\", line 1, in <module>', '      File \"/tmp/pip-install-mmon5n_u/jsonnet/setup.py\", line 75, in <module>', '        test_suite=\"python._jsonnet_test\",', '      File \"/home/ec2-user/.local/share/virtualenvs/allennlp-sagemaker-tuning-Bpkjlbyp/lib/python3.6/site-packages/setuptools/__init__.py\", line 145, in setup', '        return distutils.core.setup(**attrs)', '      File \"/home/ec2-user/anaconda3/envs/JupyterSystemEnv/lib/python3.6/distutils/core.py\", line 148, in setup', '        dist.run_commands()', '      File \"/home/ec2-user/anaconda3/envs/JupyterSystemEnv/lib/python3.6/distutils/dist.py\", line 955, in run_commands', '        self.run_command(cmd)', '      File \"/home/ec2-user/anaconda3/envs/JupyterSystemEnv/lib/python3.6/distutils/dist.py\", line 974, in run_command', '        cmd_obj.run()', '      File \"/home/ec2-user/.local/share/virtualenvs/allennlp-sagemaker-tuning-Bpkjlbyp/lib/python3.6/site-packages/setuptools/command/install.py\", line 61, in run', '        return orig.install.run(self)', '      File \"/home/ec2-user/anaconda3/envs/JupyterSystemEnv/lib/python3.6/distutils/command/install.py\", line 545, in run', \"        self.run_command('build')\", '      File \"/home/ec2-user/anaconda3/envs/JupyterSystemEnv/lib/python3.6/distutils/cmd.py\", line 313, in run_command', '        self.distribution.run_command(command)', '      File \"/home/ec2-user/anaconda3/envs/JupyterSystemEnv/lib/python3.6/distutils/dist.py\", line 974, in run_command', '        cmd_obj.run()', '      File \"/home/ec2-user/anaconda3/envs/JupyterSystemEnv/lib/python3.6/distutils/command/build.py\", line 135, in run', '        self.run_command(cmd_name)', '      File \"/home/ec2-user/anaconda3/envs/JupyterSystemEnv/lib/python3.6/distutils/cmd.py\", line 313, in run_command', '        self.distribution.run_command(command)', '      File \"/home/ec2-user/anaconda3/envs/JupyterSystemEnv/lib/python3.6/distutils/dist.py\", line 974, in run_command', '        cmd_obj.run()', '      File \"/tmp/pip-install-mmon5n_u/jsonnet/setup.py\", line 54, in run', \"        raise Exception('Could not build %s' % (', '.join(LIB_OBJECTS)))\", '    Exception: Could not build core/desugarer.o, core/formatter.o, core/libjsonnet.o, core/lexer.o, core/parser.o, core/pass.o, core/static_analysis.o, core/string_utils.o, core/vm.o, third_party/md5/md5.o', '    ', '    ----------------------------------------']\n",
      "[pipenv.exceptions.InstallError]: ['Failed building wheel for jsonnet', 'Command \"/home/ec2-user/.local/share/virtualenvs/allennlp-sagemaker-tuning-Bpkjlbyp/bin/python -u -c \"import setuptools, tokenize;__file__=\\'/tmp/pip-install-mmon5n_u/jsonnet/setup.py\\';f=getattr(tokenize, \\'open\\', open)(__file__);code=f.read().replace(\\'\\\\r\\\\n\\', \\'\\\\n\\');f.close();exec(compile(code, __file__, \\'exec\\'))\" install --record /tmp/pip-record-amo0w5ep/install-record.txt --single-version-externally-managed --compile --install-headers /home/ec2-user/.local/share/virtualenvs/allennlp-sagemaker-tuning-Bpkjlbyp/include/site/python3.6/jsonnet\" failed with error code 1 in /tmp/pip-install-mmon5n_u/jsonnet/']\n",
      "\u001b[31m\u001b[1mERROR\u001b[39m\u001b[22m: \u001b[31m\u001b[1mERROR:\u001b[39m\u001b[22m \u001b[33m\u001b[22mPackage installation failed...\u001b[39m\u001b[22m\n",
      "\u001b[0m  \u001b[39m\u001b[1m☤  \u001b[39m\u001b[22m\u001b[32m\u001b[1m▉\u001b[39m\u001b[22m\u001b[32m\u001b[1m▉\u001b[39m\u001b[22m\u001b[32m\u001b[1m▉\u001b[39m\u001b[22m\u001b[32m\u001b[1m▉\u001b[39m\u001b[22m\u001b[32m\u001b[1m▉\u001b[39m\u001b[22m\u001b[32m\u001b[1m▉\u001b[39m\u001b[22m\u001b[32m\u001b[1m▉\u001b[39m\u001b[22m\u001b[32m\u001b[1m▉\u001b[39m\u001b[22m\u001b[32m\u001b[1m▉\u001b[39m\u001b[22m\u001b[32m\u001b[1m▉\u001b[39m\u001b[22m\u001b[32m\u001b[1m▉\u001b[39m\u001b[22m\u001b[32m\u001b[1m▉\u001b[39m\u001b[22m\u001b[32m\u001b[1m▉\u001b[39m\u001b[22m\u001b[32m\u001b[1m▉\u001b[39m\u001b[22m\u001b[32m\u001b[1m▉\u001b[39m\u001b[22m\u001b[32m\u001b[1m▉\u001b[39m\u001b[22m\u001b[32m\u001b[1m▉\u001b[39m\u001b[22m\u001b[32m\u001b[1m▉\u001b[39m\u001b[22m\u001b[32m\u001b[1m▉\u001b[39m\u001b[22m\u001b[32m\u001b[1m▉\u001b[39m\u001b[22m\u001b[32m\u001b[1m▉\u001b[39m\u001b[22m\u001b[32m\u001b[1m▉\u001b[39m\u001b[22m\u001b[32m\u001b[1m▉\u001b[39m\u001b[22m\u001b[32m\u001b[1m▉\u001b[39m\u001b[22m\u001b[32m\u001b[1m▉\u001b[39m\u001b[22m\u001b[32m\u001b[1m▉\u001b[39m\u001b[22m\u001b[32m\u001b[1m▉\u001b[39m\u001b[22m\u001b[32m\u001b[1m▉\u001b[39m\u001b[22m\u001b[32m\u001b[1m▉\u001b[39m\u001b[22m\u001b[32m\u001b[1m▉\u001b[39m\u001b[22m\u001b[32m\u001b[1m▉\u001b[39m\u001b[22m\u001b[32m\u001b[1m▉\u001b[39m\u001b[22m 0/1 — \u001b[30m\u001b[22m00:00:37\u001b[39m\u001b[22m\n"
     ]
    }
   ],
   "source": [
    "!pipenv install --python 3.6"
   ]
  },
  {
   "cell_type": "code",
   "execution_count": null,
   "metadata": {},
   "outputs": [],
   "source": []
  }
 ],
 "metadata": {
  "kernelspec": {
   "display_name": "conda_python3",
   "language": "python",
   "name": "conda_python3"
  },
  "language_info": {
   "codemirror_mode": {
    "name": "ipython",
    "version": 3
   },
   "file_extension": ".py",
   "mimetype": "text/x-python",
   "name": "python",
   "nbconvert_exporter": "python",
   "pygments_lexer": "ipython3",
   "version": "3.6.5"
  }
 },
 "nbformat": 4,
 "nbformat_minor": 2
}
