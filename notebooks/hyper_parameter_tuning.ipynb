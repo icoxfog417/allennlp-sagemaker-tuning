{
 "cells": [
  {
   "cell_type": "markdown",
   "metadata": {},
   "source": [
    "## Hyper parameter tuning by SageMaker\n",
    "\n",
    "1. Prepare Requirements\n",
    "2. \n",
    "\n",
    "**Reference**\n",
    "\n",
    "* [Hyperparameter Tuning using SageMaker PyTorch Container](https://github.com/awslabs/amazon-sagemaker-examples/blob/master/hyperparameter_tuning/pytorch_mnist/hpo_pytorch_mnist.ipynb)"
   ]
  },
  {
   "cell_type": "markdown",
   "metadata": {},
   "source": [
    "## Os level setting\n",
    "\n",
    "change default gcc `gcc -> /etc/alternatives/gcc` to `/usr/bin/gcc48`\n",
    "\n",
    "```\n",
    "sudo rm /usr/bin/gcc\n",
    "sudo ln -s /usr/bin/gcc48 /usr/bin/gcc\n",
    "```\n",
    "\n",
    "Install `clang`\n",
    "\n",
    "```\n",
    "sudo yum install clang\n",
    "```\n"
   ]
  },
  {
   "cell_type": "markdown",
   "metadata": {},
   "source": [
    "## Prepare Requirements"
   ]
  },
  {
   "cell_type": "code",
   "execution_count": 15,
   "metadata": {},
   "outputs": [
    {
     "name": "stdout",
     "output_type": "stream",
     "text": [
      "Requirement already satisfied: pipenv in /home/ec2-user/anaconda3/envs/python3/lib/python3.6/site-packages (2018.11.26)\n",
      "Requirement already satisfied: pip>=9.0.1 in /home/ec2-user/anaconda3/envs/python3/lib/python3.6/site-packages (from pipenv) (10.0.1)\n",
      "Requirement already satisfied: virtualenv in /home/ec2-user/anaconda3/envs/python3/lib/python3.6/site-packages (from pipenv) (16.4.3)\n",
      "Requirement already satisfied: setuptools>=36.2.1 in /home/ec2-user/anaconda3/envs/python3/lib/python3.6/site-packages (from pipenv) (39.1.0)\n",
      "Requirement already satisfied: certifi in /home/ec2-user/anaconda3/envs/python3/lib/python3.6/site-packages (from pipenv) (2018.11.29)\n",
      "Requirement already satisfied: virtualenv-clone>=0.2.5 in /home/ec2-user/anaconda3/envs/python3/lib/python3.6/site-packages (from pipenv) (0.5.1)\n",
      "\u001b[33mYou are using pip version 10.0.1, however version 19.0.3 is available.\n",
      "You should consider upgrading via the 'pip install --upgrade pip' command.\u001b[0m\n"
     ]
    }
   ],
   "source": [
    "!cd ../\n",
    "!pip install pipenv"
   ]
  },
  {
   "cell_type": "code",
   "execution_count": null,
   "metadata": {},
   "outputs": [
    {
     "name": "stdout",
     "output_type": "stream",
     "text": [
      "\u001b[31m\u001b[22mVirtualenv already exists!\u001b[39m\u001b[22m\n",
      "\u001b[39m\u001b[1mRemoving existing virtualenv…\u001b[39m\u001b[22m\n",
      "\u001b[39m\u001b[1mCreating a virtualenv for this project…\u001b[39m\u001b[22m\n",
      "Pipfile: \u001b[31m\u001b[1m/home/ec2-user/SageMaker/allennlp-sagemaker-tuning/Pipfile\u001b[39m\u001b[22m\n",
      "\u001b[39m\u001b[1mUsing\u001b[39m\u001b[22m \u001b[31m\u001b[1m/home/ec2-user/anaconda3/envs/JupyterSystemEnv/bin/python\u001b[39m\u001b[22m \u001b[32m\u001b[22m(3.6.8)\u001b[39m\u001b[22m \u001b[39m\u001b[1mto create virtualenv…\u001b[39m\u001b[22m\n",
      "⠇\u001b[0m Creating virtual environment...\u001b[K\u001b[34m\u001b[22mUsing base prefix '/home/ec2-user/anaconda3/envs/JupyterSystemEnv'\n",
      "New python executable in /home/ec2-user/.local/share/virtualenvs/allennlp-sagemaker-tuning-Bpkjlbyp/bin/python\n",
      "Installing setuptools, pip, wheel...\n",
      "done.\n",
      "Running virtualenv with interpreter /home/ec2-user/anaconda3/envs/JupyterSystemEnv/bin/python\n",
      "\u001b[39m\u001b[22m\n",
      "\u001b[K\u001b[?25h\u001b[32m\u001b[22m✔ Successfully created virtual environment!\u001b[39m\u001b[22m\u001b[0m \n",
      "Virtualenv location: \u001b[32m\u001b[22m/home/ec2-user/.local/share/virtualenvs/allennlp-sagemaker-tuning-Bpkjlbyp\u001b[39m\u001b[22m\n",
      "\u001b[31m\u001b[1mWarning\u001b[39m\u001b[22m: Your Pipfile requires \u001b[39m\u001b[1mpython_version\u001b[39m\u001b[22m \u001b[34m\u001b[22m3.7\u001b[39m\u001b[22m, but you are using \u001b[34m\u001b[22m3.6.8\u001b[39m\u001b[22m (\u001b[32m\u001b[22m/home/e/.local/share/v/a/bin/python\u001b[39m\u001b[22m).\n",
      "  \u001b[32m\u001b[22m$ pipenv --rm\u001b[39m\u001b[22m and rebuilding the virtual environment may resolve the issue.\n",
      "  \u001b[31m\u001b[22m$ pipenv check\u001b[39m\u001b[22m will surely fail.\n",
      "\u001b[39m\u001b[1mInstalling dependencies from Pipfile.lock (44ebd7)…\u001b[39m\u001b[22m\n",
      "\u001b[31m\u001b[22mAn error occurred while installing\u001b[39m\u001b[22m \u001b[32m\u001b[22mjsonnet==0.12.1 ; sys_platform != 'win32' --hash=sha256:3622d34ed055e9e86687bbe48cc30189fe90ddfd2787ed91c484ee670a179916\u001b[39m\u001b[22m! Will try again.\u001b[1m▉\u001b[39m\u001b[22m\u001b[32m\u001b[1m▉\u001b[39m\u001b[22m\u001b[32m\u001b[1m▉\u001b[39m\u001b[22m\u001b[30m\u001b[22m▉\u001b[39m\u001b[22m\u001b[30m\u001b[22m▉\u001b[39m\u001b[22m\u001b[30m\u001b[22m▉\u001b[39m\u001b[22m\u001b[30m\u001b[22m▉\u001b[39m\u001b[22m\u001b[30m\u001b[22m▉\u001b[39m\u001b[22m\u001b[30m\u001b[22m▉\u001b[39m\u001b[22m\u001b[30m\u001b[22m▉\u001b[39m\u001b[22m\u001b[30m\u001b[22m▉\u001b[39m\u001b[22m\u001b[30m\u001b[22m▉\u001b[39m\u001b[22m\u001b[30m\u001b[22m▉\u001b[39m\u001b[22m\u001b[30m\u001b[22m▉\u001b[39m\u001b[22m\u001b[30m\u001b[22m▉\u001b[39m\u001b[22m\u001b[30m\u001b[22m▉\u001b[39m\u001b[22m\u001b[30m\u001b[22m▉\u001b[39m\u001b[22m\u001b[30m\u001b[22m▉\u001b[39m\u001b[22m\u001b[30m\u001b[22m▉\u001b[39m\u001b[22m\u001b[30m\u001b[22m▉\u001b[39m\u001b[22m\u001b[30m\u001b[22m▉\u001b[39m\u001b[22m\u001b[30m\u001b[22m▉\u001b[39m\u001b[22m 47/108 — \u001b[30m\u001b[22m00:00:32\u001b[39m\u001b[22mmmmmmmmmmmmm\n",
      "  🐍   \u001b[32m\u001b[1m▉\u001b[39m\u001b[22m\u001b[32m\u001b[1m▉\u001b[39m\u001b[22m\u001b[32m\u001b[1m▉\u001b[39m\u001b[22m\u001b[32m\u001b[1m▉\u001b[39m\u001b[22m\u001b[32m\u001b[1m▉\u001b[39m\u001b[22m\u001b[32m\u001b[1m▉\u001b[39m\u001b[22m\u001b[32m\u001b[1m▉\u001b[39m\u001b[22m\u001b[32m\u001b[1m▉\u001b[39m\u001b[22m\u001b[32m\u001b[1m▉\u001b[39m\u001b[22m\u001b[32m\u001b[1m▉\u001b[39m\u001b[22m\u001b[32m\u001b[1m▉\u001b[39m\u001b[22m\u001b[32m\u001b[1m▉\u001b[39m\u001b[22m\u001b[32m\u001b[1m▉\u001b[39m\u001b[22m\u001b[32m\u001b[1m▉\u001b[39m\u001b[22m\u001b[32m\u001b[1m▉\u001b[39m\u001b[22m\u001b[32m\u001b[1m▉\u001b[39m\u001b[22m\u001b[32m\u001b[1m▉\u001b[39m\u001b[22m\u001b[32m\u001b[1m▉\u001b[39m\u001b[22m\u001b[32m\u001b[1m▉\u001b[39m\u001b[22m\u001b[32m\u001b[1m▉\u001b[39m\u001b[22m\u001b[32m\u001b[1m▉\u001b[39m\u001b[22m\u001b[32m\u001b[1m▉\u001b[39m\u001b[22m\u001b[32m\u001b[1m▉\u001b[39m\u001b[22m\u001b[32m\u001b[1m▉\u001b[39m\u001b[22m\u001b[32m\u001b[1m▉\u001b[39m\u001b[22m\u001b[32m\u001b[1m▉\u001b[39m\u001b[22m\u001b[32m\u001b[1m▉\u001b[39m\u001b[22m\u001b[32m\u001b[1m▉\u001b[39m\u001b[22m\u001b[32m\u001b[1m▉\u001b[39m\u001b[22m\u001b[32m\u001b[1m▉\u001b[39m\u001b[22m\u001b[32m\u001b[1m▉\u001b[39m\u001b[22m\u001b[32m\u001b[1m▉\u001b[39m\u001b[22m 108/108 — \u001b[30m\u001b[22m00:01:55\u001b[39m\u001b[22mmmmmmmmmmmmmmmmmm\n"
     ]
    }
   ],
   "source": [
    "!pipenv install --python 3.6"
   ]
  },
  {
   "cell_type": "code",
   "execution_count": null,
   "metadata": {},
   "outputs": [],
   "source": []
  }
 ],
 "metadata": {
  "kernelspec": {
   "display_name": "conda_python3",
   "language": "python",
   "name": "conda_python3"
  },
  "language_info": {
   "codemirror_mode": {
    "name": "ipython",
    "version": 3
   },
   "file_extension": ".py",
   "mimetype": "text/x-python",
   "name": "python",
   "nbconvert_exporter": "python",
   "pygments_lexer": "ipython3",
   "version": "3.6.5"
  }
 },
 "nbformat": 4,
 "nbformat_minor": 2
}
