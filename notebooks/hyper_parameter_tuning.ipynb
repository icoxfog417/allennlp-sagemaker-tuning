{
 "cells": [
  {
   "cell_type": "markdown",
   "metadata": {},
   "source": [
    "## Hyper parameter tuning by SageMaker\n",
    "\n",
    "1. OS level setting\n",
    "2. Prepare Requirements\n",
    "3. Hyperparameter Tuning\n",
    "\n",
    "**Reference**\n",
    "\n",
    "* [Hyperparameter Tuning using SageMaker PyTorch Container](https://github.com/awslabs/amazon-sagemaker-examples/blob/master/hyperparameter_tuning/pytorch_mnist/hpo_pytorch_mnist.ipynb)"
   ]
  },
  {
   "cell_type": "markdown",
   "metadata": {},
   "source": [
    "## OS level setting\n",
    "\n",
    "Install packages.\n",
    "\n",
    "```\n",
    "sudo yum install gcc72-c++.x86_64\n",
    "sudo yum install clang\n",
    "```\n",
    "\n",
    "g++: Install & link same version of gcc."
   ]
  },
  {
   "cell_type": "markdown",
   "metadata": {},
   "source": [
    "## Prepare Requirements"
   ]
  },
  {
   "cell_type": "code",
   "execution_count": 1,
   "metadata": {},
   "outputs": [
    {
     "name": "stdout",
     "output_type": "stream",
     "text": [
      "From https://github.com/icoxfog417/allennlp-sagemaker-tuning\n",
      " * branch            master     -> FETCH_HEAD\n",
      "Already up-to-date.\n",
      "Collecting pipenv\n",
      "\u001b[?25l  Downloading https://files.pythonhosted.org/packages/13/b4/3ffa55f77161cff9a5220f162670f7c5eb00df52e00939e203f601b0f579/pipenv-2018.11.26-py3-none-any.whl (5.2MB)\n",
      "\u001b[K    100% |████████████████████████████████| 5.2MB 10.3MB/s ta 0:00:01\n",
      "\u001b[?25hRequirement already satisfied: setuptools>=36.2.1 in /home/ec2-user/anaconda3/envs/python3/lib/python3.6/site-packages (from pipenv) (39.1.0)\n",
      "Collecting virtualenv (from pipenv)\n",
      "\u001b[?25l  Downloading https://files.pythonhosted.org/packages/33/5d/314c760d4204f64e4a968275182b7751bd5c3249094757b39ba987dcfb5a/virtualenv-16.4.3-py2.py3-none-any.whl (2.0MB)\n",
      "\u001b[K    100% |████████████████████████████████| 2.0MB 25.9MB/s eta 0:00:01\n",
      "\u001b[?25hRequirement already satisfied: certifi in /home/ec2-user/anaconda3/envs/python3/lib/python3.6/site-packages (from pipenv) (2019.3.9)\n",
      "Requirement already satisfied: pip>=9.0.1 in /home/ec2-user/anaconda3/envs/python3/lib/python3.6/site-packages (from pipenv) (10.0.1)\n",
      "Collecting virtualenv-clone>=0.2.5 (from pipenv)\n",
      "  Downloading https://files.pythonhosted.org/packages/37/2b/e34e411da0b960b2245f86ea83cdc20be62150a0966004f54fd2e00e5909/virtualenv_clone-0.5.2-py2.py3-none-any.whl\n",
      "Installing collected packages: virtualenv, virtualenv-clone, pipenv\n",
      "Successfully installed pipenv-2018.11.26 virtualenv-16.4.3 virtualenv-clone-0.5.2\n",
      "\u001b[33mYou are using pip version 10.0.1, however version 19.0.3 is available.\n",
      "You should consider upgrading via the 'pip install --upgrade pip' command.\u001b[0m\n"
     ]
    }
   ],
   "source": [
    "!git pull origin master\n",
    "!pip install pipenv"
   ]
  },
  {
   "cell_type": "code",
   "execution_count": 3,
   "metadata": {},
   "outputs": [
    {
     "name": "stdout",
     "output_type": "stream",
     "text": [
      "\u001b[39m\u001b[1mCreating a virtualenv for this project…\u001b[39m\u001b[22m\n",
      "Pipfile: \u001b[31m\u001b[1m/home/ec2-user/SageMaker/allennlp-sagemaker-tuning/Pipfile\u001b[39m\u001b[22m\n",
      "\u001b[39m\u001b[1mUsing\u001b[39m\u001b[22m \u001b[31m\u001b[1m/home/ec2-user/anaconda3/envs/JupyterSystemEnv/bin/python\u001b[39m\u001b[22m \u001b[32m\u001b[22m(3.6.8)\u001b[39m\u001b[22m \u001b[39m\u001b[1mto create virtualenv…\u001b[39m\u001b[22m\n",
      "⠴\u001b[0m Creating virtual environment...\u001b[K\u001b[34m\u001b[22mUsing base prefix '/home/ec2-user/anaconda3/envs/JupyterSystemEnv'\n",
      "New python executable in /home/ec2-user/SageMaker/allennlp-sagemaker-tuning/.venv/bin/python\n",
      "Installing setuptools, pip, wheel...\n",
      "done.\n",
      "Running virtualenv with interpreter /home/ec2-user/anaconda3/envs/JupyterSystemEnv/bin/python\n",
      "\u001b[39m\u001b[22m\n",
      "\u001b[K\u001b[?25h\u001b[32m\u001b[22m✔ Successfully created virtual environment!\u001b[39m\u001b[22m\u001b[0m \n",
      "Virtualenv location: \u001b[32m\u001b[22m/home/ec2-user/SageMaker/allennlp-sagemaker-tuning/.venv\u001b[39m\u001b[22m\n",
      "\u001b[31m\u001b[1mWarning\u001b[39m\u001b[22m: Your Pipfile requires \u001b[39m\u001b[1mpython_version\u001b[39m\u001b[22m \u001b[34m\u001b[22m3.7\u001b[39m\u001b[22m, but you are using \u001b[34m\u001b[22m3.6.8\u001b[39m\u001b[22m (\u001b[32m\u001b[22m/home/e/S/a/.venv/bin/python\u001b[39m\u001b[22m).\n",
      "  \u001b[32m\u001b[22m$ pipenv --rm\u001b[39m\u001b[22m and rebuilding the virtual environment may resolve the issue.\n",
      "  \u001b[31m\u001b[22m$ pipenv check\u001b[39m\u001b[22m will surely fail.\n",
      "\u001b[39m\u001b[1mInstalling dependencies from Pipfile.lock (44ebd7)…\u001b[39m\u001b[22m\n",
      "  🐍   \u001b[32m\u001b[1m▉\u001b[39m\u001b[22m\u001b[32m\u001b[1m▉\u001b[39m\u001b[22m\u001b[32m\u001b[1m▉\u001b[39m\u001b[22m\u001b[32m\u001b[1m▉\u001b[39m\u001b[22m\u001b[32m\u001b[1m▉\u001b[39m\u001b[22m\u001b[32m\u001b[1m▉\u001b[39m\u001b[22m\u001b[32m\u001b[1m▉\u001b[39m\u001b[22m\u001b[32m\u001b[1m▉\u001b[39m\u001b[22m\u001b[32m\u001b[1m▉\u001b[39m\u001b[22m\u001b[32m\u001b[1m▉\u001b[39m\u001b[22m\u001b[32m\u001b[1m▉\u001b[39m\u001b[22m\u001b[32m\u001b[1m▉\u001b[39m\u001b[22m\u001b[32m\u001b[1m▉\u001b[39m\u001b[22m\u001b[32m\u001b[1m▉\u001b[39m\u001b[22m\u001b[32m\u001b[1m▉\u001b[39m\u001b[22m\u001b[32m\u001b[1m▉\u001b[39m\u001b[22m\u001b[32m\u001b[1m▉\u001b[39m\u001b[22m\u001b[32m\u001b[1m▉\u001b[39m\u001b[22m\u001b[32m\u001b[1m▉\u001b[39m\u001b[22m\u001b[32m\u001b[1m▉\u001b[39m\u001b[22m\u001b[32m\u001b[1m▉\u001b[39m\u001b[22m\u001b[32m\u001b[1m▉\u001b[39m\u001b[22m\u001b[32m\u001b[1m▉\u001b[39m\u001b[22m\u001b[32m\u001b[1m▉\u001b[39m\u001b[22m\u001b[32m\u001b[1m▉\u001b[39m\u001b[22m\u001b[32m\u001b[1m▉\u001b[39m\u001b[22m\u001b[32m\u001b[1m▉\u001b[39m\u001b[22m\u001b[32m\u001b[1m▉\u001b[39m\u001b[22m\u001b[32m\u001b[1m▉\u001b[39m\u001b[22m\u001b[32m\u001b[1m▉\u001b[39m\u001b[22m\u001b[32m\u001b[1m▉\u001b[39m\u001b[22m\u001b[32m\u001b[1m▉\u001b[39m\u001b[22m 108/108 — \u001b[30m\u001b[22m00:01:36\u001b[39m\u001b[22mmmmmmmmmmmmmmmmmmmmmmmmmmmmmmm\n",
      "To activate this project's virtualenv, run \u001b[31m\u001b[22mpipenv shell\u001b[39m\u001b[22m.\n",
      "Alternatively, run a command inside the virtualenv with \u001b[31m\u001b[22mpipenv run\u001b[39m\u001b[22m.\n",
      "\u001b[0m"
     ]
    }
   ],
   "source": [
    "! export PIPENV_VENV_IN_PROJECT=1 && cd ../ && pipenv install --python=3.6"
   ]
  },
  {
   "cell_type": "code",
   "execution_count": 4,
   "metadata": {},
   "outputs": [],
   "source": [
    "import os\n",
    "import sys\n",
    "sys.path.append(os.path.join(os.path.realpath(\".\"), \"../\"))"
   ]
  },
  {
   "cell_type": "code",
   "execution_count": 5,
   "metadata": {},
   "outputs": [],
   "source": [
    "def execute_example():\n",
    "    from example.train import train as train_fn\n",
    "    \n",
    "    root = 'https://raw.githubusercontent.com/allenai/allennlp/master/tutorials/tagger/'\n",
    "    train_data_path = root + 'training.txt'\n",
    "    validation_data_path = root + 'validation.txt'\n",
    "\n",
    "    embedding_dim = 6\n",
    "    hidden_dim = 6\n",
    "\n",
    "    train_fn(train_data_path, validation_data_path,\n",
    "                   embedding_dim, hidden_dim)"
   ]
  },
  {
   "cell_type": "code",
   "execution_count": null,
   "metadata": {},
   "outputs": [],
   "source": [
    "execute_example()"
   ]
  },
  {
   "cell_type": "markdown",
   "metadata": {},
   "source": [
    "## Hyperparameter Tuning"
   ]
  },
  {
   "cell_type": "code",
   "execution_count": null,
   "metadata": {},
   "outputs": [],
   "source": []
  }
 ],
 "metadata": {
  "kernelspec": {
   "display_name": "conda_python3",
   "language": "python",
   "name": "conda_python3"
  },
  "language_info": {
   "codemirror_mode": {
    "name": "ipython",
    "version": 3
   },
   "file_extension": ".py",
   "mimetype": "text/x-python",
   "name": "python",
   "nbconvert_exporter": "python",
   "pygments_lexer": "ipython3",
   "version": "3.6.5"
  }
 },
 "nbformat": 4,
 "nbformat_minor": 2
}
