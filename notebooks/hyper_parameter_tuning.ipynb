{
 "cells": [
  {
   "cell_type": "markdown",
   "metadata": {},
   "source": [
    "## Hyper parameter tuning by SageMaker\n",
    "\n",
    "1. OS level setting\n",
    "2. Prepare Requirements\n",
    "3. Hyperparameter Tuning\n",
    "\n",
    "**Reference**\n",
    "\n",
    "* [Hyperparameter Tuning using SageMaker PyTorch Container](https://github.com/awslabs/amazon-sagemaker-examples/blob/master/hyperparameter_tuning/pytorch_mnist/hpo_pytorch_mnist.ipynb)"
   ]
  },
  {
   "cell_type": "markdown",
   "metadata": {},
   "source": [
    "## OS level setting\n",
    "\n",
    "Install packages.\n",
    "\n",
    "```\n",
    "sudo yum install gcc72-c++.x86_64\n",
    "sudo yum install clang\n",
    "```\n",
    "\n",
    "g++: Install & link same version of gcc."
   ]
  },
  {
   "cell_type": "markdown",
   "metadata": {},
   "source": [
    "## Prepare Requirements"
   ]
  },
  {
   "cell_type": "code",
   "execution_count": 1,
   "metadata": {},
   "outputs": [
    {
     "name": "stdout",
     "output_type": "stream",
     "text": [
      "From https://github.com/icoxfog417/allennlp-sagemaker-tuning\n",
      " * branch            master     -> FETCH_HEAD\n",
      "Already up-to-date.\n",
      "Requirement already satisfied: pipenv in /home/ec2-user/anaconda3/envs/python3/lib/python3.6/site-packages (2018.11.26)\n",
      "Requirement already satisfied: setuptools>=36.2.1 in /home/ec2-user/anaconda3/envs/python3/lib/python3.6/site-packages (from pipenv) (39.1.0)\n",
      "Requirement already satisfied: virtualenv-clone>=0.2.5 in /home/ec2-user/anaconda3/envs/python3/lib/python3.6/site-packages (from pipenv) (0.5.2)\n",
      "Requirement already satisfied: certifi in /home/ec2-user/anaconda3/envs/python3/lib/python3.6/site-packages (from pipenv) (2019.3.9)\n",
      "Requirement already satisfied: virtualenv in /home/ec2-user/anaconda3/envs/python3/lib/python3.6/site-packages (from pipenv) (16.4.3)\n",
      "Requirement already satisfied: pip>=9.0.1 in /home/ec2-user/anaconda3/envs/python3/lib/python3.6/site-packages (from pipenv) (10.0.1)\n",
      "\u001b[31men-core-web-sm 2.1.0 requires spacy>=2.1.0, which is not installed.\u001b[0m\n",
      "\u001b[33mYou are using pip version 10.0.1, however version 19.0.3 is available.\n",
      "You should consider upgrading via the 'pip install --upgrade pip' command.\u001b[0m\n"
     ]
    }
   ],
   "source": [
    "!git pull origin master\n",
    "!pip install pipenv"
   ]
  },
  {
   "cell_type": "code",
   "execution_count": 2,
   "metadata": {},
   "outputs": [
    {
     "name": "stdout",
     "output_type": "stream",
     "text": [
      "\u001b[31m\u001b[22mVirtualenv already exists!\u001b[39m\u001b[22m\n",
      "\u001b[39m\u001b[1mRemoving existing virtualenv…\u001b[39m\u001b[22m\n",
      "\u001b[39m\u001b[1mCreating a virtualenv for this project…\u001b[39m\u001b[22m\n",
      "Pipfile: \u001b[31m\u001b[1m/home/ec2-user/SageMaker/allennlp-sagemaker-tuning/Pipfile\u001b[39m\u001b[22m\n",
      "\u001b[39m\u001b[1mUsing\u001b[39m\u001b[22m \u001b[31m\u001b[1m/home/ec2-user/anaconda3/envs/JupyterSystemEnv/bin/python\u001b[39m\u001b[22m \u001b[32m\u001b[22m(3.6.8)\u001b[39m\u001b[22m \u001b[39m\u001b[1mto create virtualenv…\u001b[39m\u001b[22m\n",
      "⠴\u001b[0m Creating virtual environment...\u001b[K\u001b[34m\u001b[22mUsing base prefix '/home/ec2-user/anaconda3/envs/JupyterSystemEnv'\n",
      "New python executable in /home/ec2-user/SageMaker/allennlp-sagemaker-tuning/.venv/bin/python\n",
      "Installing setuptools, pip, wheel...\n",
      "done.\n",
      "Running virtualenv with interpreter /home/ec2-user/anaconda3/envs/JupyterSystemEnv/bin/python\n",
      "\u001b[39m\u001b[22m\n",
      "\u001b[K\u001b[?25h\u001b[32m\u001b[22m✔ Successfully created virtual environment!\u001b[39m\u001b[22m\u001b[0m \n",
      "Virtualenv location: \u001b[32m\u001b[22m/home/ec2-user/SageMaker/allennlp-sagemaker-tuning/.venv\u001b[39m\u001b[22m\n",
      "\u001b[31m\u001b[1mWarning\u001b[39m\u001b[22m: Your Pipfile requires \u001b[39m\u001b[1mpython_version\u001b[39m\u001b[22m \u001b[34m\u001b[22m3.7\u001b[39m\u001b[22m, but you are using \u001b[34m\u001b[22m3.6.8\u001b[39m\u001b[22m (\u001b[32m\u001b[22m/home/e/S/a/.venv/bin/python\u001b[39m\u001b[22m).\n",
      "  \u001b[32m\u001b[22m$ pipenv --rm\u001b[39m\u001b[22m and rebuilding the virtual environment may resolve the issue.\n",
      "  \u001b[31m\u001b[22m$ pipenv check\u001b[39m\u001b[22m will surely fail.\n",
      "\u001b[39m\u001b[1mInstalling dependencies from Pipfile.lock (44ebd7)…\u001b[39m\u001b[22m\n",
      "  🐍   \u001b[32m\u001b[1m▉\u001b[39m\u001b[22m\u001b[32m\u001b[1m▉\u001b[39m\u001b[22m\u001b[32m\u001b[1m▉\u001b[39m\u001b[22m\u001b[32m\u001b[1m▉\u001b[39m\u001b[22m\u001b[32m\u001b[1m▉\u001b[39m\u001b[22m\u001b[32m\u001b[1m▉\u001b[39m\u001b[22m\u001b[32m\u001b[1m▉\u001b[39m\u001b[22m\u001b[32m\u001b[1m▉\u001b[39m\u001b[22m\u001b[32m\u001b[1m▉\u001b[39m\u001b[22m\u001b[32m\u001b[1m▉\u001b[39m\u001b[22m\u001b[32m\u001b[1m▉\u001b[39m\u001b[22m\u001b[32m\u001b[1m▉\u001b[39m\u001b[22m\u001b[32m\u001b[1m▉\u001b[39m\u001b[22m\u001b[32m\u001b[1m▉\u001b[39m\u001b[22m\u001b[32m\u001b[1m▉\u001b[39m\u001b[22m\u001b[32m\u001b[1m▉\u001b[39m\u001b[22m\u001b[32m\u001b[1m▉\u001b[39m\u001b[22m\u001b[32m\u001b[1m▉\u001b[39m\u001b[22m\u001b[32m\u001b[1m▉\u001b[39m\u001b[22m\u001b[32m\u001b[1m▉\u001b[39m\u001b[22m\u001b[32m\u001b[1m▉\u001b[39m\u001b[22m\u001b[32m\u001b[1m▉\u001b[39m\u001b[22m\u001b[32m\u001b[1m▉\u001b[39m\u001b[22m\u001b[32m\u001b[1m▉\u001b[39m\u001b[22m\u001b[32m\u001b[1m▉\u001b[39m\u001b[22m\u001b[32m\u001b[1m▉\u001b[39m\u001b[22m\u001b[32m\u001b[1m▉\u001b[39m\u001b[22m\u001b[32m\u001b[1m▉\u001b[39m\u001b[22m\u001b[32m\u001b[1m▉\u001b[39m\u001b[22m\u001b[32m\u001b[1m▉\u001b[39m\u001b[22m\u001b[32m\u001b[1m▉\u001b[39m\u001b[22m\u001b[32m\u001b[1m▉\u001b[39m\u001b[22m 108/108 — \u001b[30m\u001b[22m00:01:32\u001b[39m\u001b[22mmmmmmmmmmmmmmmmmmmmmmmmmmmmmmm\n",
      "To activate this project's virtualenv, run \u001b[31m\u001b[22mpipenv shell\u001b[39m\u001b[22m.\n",
      "Alternatively, run a command inside the virtualenv with \u001b[31m\u001b[22mpipenv run\u001b[39m\u001b[22m.\n",
      "\u001b[0m"
     ]
    }
   ],
   "source": [
    "! export PIPENV_VENV_IN_PROJECT=1 && cd ../ && pipenv install --python=3.6"
   ]
  },
  {
   "cell_type": "code",
   "execution_count": 13,
   "metadata": {},
   "outputs": [],
   "source": [
    "import os\n",
    "\n",
    "\n",
    "def set_pythonpath():\n",
    "    import sys\n",
    "    python_version = \"python\" + str(sys.version_info.major) \\\n",
    "                     + \".\" + str(sys.version_info.minor)\n",
    "    venv_dir = \"../.venv/lib/{}/site-packages\".format(python_version)\n",
    "    lib_dir = os.path.join(os.path.realpath(\".\"), venv_dir)\n",
    "    project_dir = os.path.join(os.path.realpath(\".\"), \"../\")\n",
    "    sys.path.append(lib_dir)\n",
    "    sys.path.append(project_dir)\n",
    "\n",
    "set_pythonpath()"
   ]
  },
  {
   "cell_type": "code",
   "execution_count": 14,
   "metadata": {},
   "outputs": [],
   "source": [
    "def execute_example():\n",
    "    from example.train import train as train_fn\n",
    "    \n",
    "    root = 'https://raw.githubusercontent.com/allenai/allennlp/master/tutorials/tagger/'\n",
    "    train_data_path = root + 'training.txt'\n",
    "    validation_data_path = root + 'validation.txt'\n",
    "\n",
    "    embedding_dim = 6\n",
    "    hidden_dim = 6\n",
    "    num_epochs = 1\n",
    "\n",
    "    train_fn(train_data_path, validation_data_path,\n",
    "                   embedding_dim, hidden_dim, num_epochs=num_epochs)"
   ]
  },
  {
   "cell_type": "code",
   "execution_count": 15,
   "metadata": {},
   "outputs": [
    {
     "name": "stderr",
     "output_type": "stream",
     "text": [
      "2it [00:00, 2296.36it/s]\n",
      "2it [00:00, 6636.56it/s]\n",
      "100%|██████████| 4/4 [00:00<00:00, 26092.09it/s]\n",
      "ERROR:allennlp.common.util:unable to check gpu_memory_mb(), continuing\n",
      "Traceback (most recent call last):\n",
      "  File \"/home/ec2-user/SageMaker/allennlp-sagemaker-tuning/notebooks/../example/../.venv/lib/python3.6/site-packages/allennlp/common/util.py\", line 379, in gpu_memory_mb\n",
      "    encoding='utf-8')\n",
      "  File \"/home/ec2-user/anaconda3/envs/python3/lib/python3.6/subprocess.py\", line 336, in check_output\n",
      "    **kwargs).stdout\n",
      "  File \"/home/ec2-user/anaconda3/envs/python3/lib/python3.6/subprocess.py\", line 418, in run\n",
      "    output=stdout, stderr=stderr)\n",
      "subprocess.CalledProcessError: Command '['nvidia-smi', '--query-gpu=memory.used', '--format=csv,nounits,noheader']' returned non-zero exit status 9.\n",
      "accuracy: 0.2222, loss: 1.2204 ||: 100%|██████████| 1/1 [00:00<00:00, 202.52it/s]\n",
      "accuracy: 0.2222, loss: 1.2095 ||: 100%|██████████| 1/1 [00:00<00:00, 381.75it/s]\n",
      "WARNING:root:vocabulary serialization directory /tmp/vocabulary is not empty\n"
     ]
    },
    {
     "name": "stdout",
     "output_type": "stream",
     "text": [
      "['V', 'V', 'V', 'V', 'V']\n"
     ]
    }
   ],
   "source": [
    "execute_example()"
   ]
  },
  {
   "cell_type": "markdown",
   "metadata": {},
   "source": [
    "## Hyperparameter Tuning\n",
    "\n",
    "### Create Session"
   ]
  },
  {
   "cell_type": "code",
   "execution_count": 19,
   "metadata": {},
   "outputs": [],
   "source": [
    "import sagemaker\n",
    "from sagemaker.tuner import IntegerParameter, CategoricalParameter, ContinuousParameter, HyperparameterTuner\n",
    "\n",
    "\n",
    "sagemaker_session = sagemaker.Session()\n",
    "bucket = \"sagemaker.tech-sketch.jp\"\n",
    "prefix = \"allennlp_test\"\n",
    "role = sagemaker.get_execution_role()"
   ]
  },
  {
   "cell_type": "markdown",
   "metadata": {},
   "source": [
    "### Upload data"
   ]
  },
  {
   "cell_type": "code",
   "execution_count": 21,
   "metadata": {},
   "outputs": [
    {
     "name": "stdout",
     "output_type": "stream",
     "text": [
      "input spec (in this case, just an S3 path): s3://sagemaker.tech-sketch.jp/allennlp_test/c3e1f451545a79cf7582dec24d072db6f5bb0d1ae24a924d03c9944516e16b60.47b1193282cbd926a1b602cc6d5a22324cfab24e669ca04f1ff4851a35c73393\n",
      "input spec (in this case, just an S3 path): s3://sagemaker.tech-sketch.jp/allennlp_test/a377491818b2bbd2f0561346da1d8d25f29bbc1c8df640eaf6ee125071d18d16.22d6cc9ff0fe67add48c843670f9b158a2cd4d4527d8d3b9587a7c48ff356e2f\n"
     ]
    }
   ],
   "source": [
    "from allennlp.common.file_utils import cached_path\n",
    "\n",
    "\n",
    "root = \"https://raw.githubusercontent.com/allenai/allennlp/master/tutorials/tagger/\"\n",
    "urls = [(root + file_name) for file_name in (\"training.txt\", \"validation.txt\")]\n",
    "paths = [cached_path(u) for u in urls]\n",
    "s3_paths = []\n",
    "\n",
    "for path in paths:\n",
    "    s3_path = sagemaker_session.upload_data(path=path, bucket=bucket, key_prefix=prefix)\n",
    "    print(\"input spec (in this case, just an S3 path): {}\".format(s3_path))\n",
    "    s3_paths.append(s3_path)"
   ]
  },
  {
   "cell_type": "code",
   "execution_count": null,
   "metadata": {},
   "outputs": [],
   "source": []
  }
 ],
 "metadata": {
  "kernelspec": {
   "display_name": "conda_python3",
   "language": "python",
   "name": "conda_python3"
  },
  "language_info": {
   "codemirror_mode": {
    "name": "ipython",
    "version": 3
   },
   "file_extension": ".py",
   "mimetype": "text/x-python",
   "name": "python",
   "nbconvert_exporter": "python",
   "pygments_lexer": "ipython3",
   "version": "3.6.5"
  }
 },
 "nbformat": 4,
 "nbformat_minor": 2
}
